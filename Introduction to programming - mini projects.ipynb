{
 "cells": [
  {
   "cell_type": "markdown",
   "metadata": {},
   "source": [
    "# A program to calculate area of shapes. "
   ]
  },
  {
   "cell_type": "markdown",
   "metadata": {},
   "source": [
    "Our program is capable of calculating the area of a square, rectangle, triangle and a circle. \n",
    "The user is presented with options to select the shape. Based on which shape is choosed by the user, the program asks for the appropriate input and print the resulting area on the screen.\n",
    "After the program is executed, the screen should display something like this:\n",
    "\n",
    "Which shape would you like to calculate the area for? Please enter the option number-\n",
    "1. Square\n",
    "2. Rectangle\n",
    "3. Triangle\n",
    "4. Circle\n",
    "\n",
    "Enter Option: _\n",
    "\n",
    "Say the user enters the option 1.\n",
    "\n",
    "Please enter the length of a side: _\n",
    "\n",
    "If the user enters a value of 5. The output should be:\n",
    "\n",
    "The area of the square is 25\n",
    "\n",
    "This program should indicate that the input is invalid if the user enters a character instead of a number as input. For instance if the user enters a value of ‘a’ instead of 5 in the previous example the program should prompt:\n",
    "\n",
    "Invalid input, please enter a number: _"
   ]
  },
  {
   "cell_type": "code",
   "execution_count": 1,
   "metadata": {},
   "outputs": [
    {
     "name": "stdout",
     "output_type": "stream",
     "text": [
      "Please type (1) for square\n",
      "Please type (2) for rectangle\n",
      "Please type (3) for triangle\n",
      "Please type (4) for circle\n",
      "\n",
      "\n",
      "Please type your choice : 1\n",
      "Please enter the length of a side: 12\n",
      "\n",
      "\n",
      "Area of 'SQUARE' of length 12m is 144m^2\n",
      "\n",
      "\n",
      "Thank you\n",
      "Have a nice day\n"
     ]
    }
   ],
   "source": [
    "print('Please type (1) for square')\n",
    "print('Please type (2) for rectangle')\n",
    "print('Please type (3) for triangle')\n",
    "print('Please type (4) for circle')\n",
    "print('\\n')\n",
    "shape=input('Please type your choice : ')\n",
    "if shape=='1':\n",
    "    l1=int(input('Please enter the length of a side: '))\n",
    "    print('\\n')\n",
    "    print(f\"Area of 'SQUARE' of length {l1}m is {l1**2}m^2\")\n",
    "elif shape=='2':\n",
    "    l2=int(input('Please enter the length of rectangle : '))\n",
    "    l3=int(input('Please enter the width of rectangle : '))\n",
    "    print('\\n')\n",
    "    print(f\"Area of 'RECTANGLE' of length {l2}m and width {l3}m is {2*(l2+l3)}m^2\")\n",
    "elif shape=='3':\n",
    "    l4=int(input('Please enter the base length : '))\n",
    "    l5=int(input('Please enter the height : '))\n",
    "    print('\\n')\n",
    "    print(f\"Area of 'TRIANGLE' of length {l4}m and height {l5}m is {0.5*(l4*l5)}m^2\")\n",
    "else:\n",
    "    l6=int(input('Please enter the radius or diameter of the circle : '))\n",
    "    pi==3.145\n",
    "    query =input('Please tell us whether you have entered the length of dia or radius \\nIf dia press 1 else press 2 : ')\n",
    "    if query=='1':\n",
    "        l7=l6//2\n",
    "        print('\\n')\n",
    "        print(f\"Area of circle of diameter {l6}m is {pi*l7**2}m^2\")\n",
    "    else:\n",
    "        print(f\"Area of circle of radius {l6}m is {pi*l6**2}m^2\")\n",
    "print('\\n')\n",
    "print('Thank you')\n",
    "print('Have a nice day')"
   ]
  },
  {
   "cell_type": "code",
   "execution_count": null,
   "metadata": {},
   "outputs": [],
   "source": []
  }
 ],
 "metadata": {
  "kernelspec": {
   "display_name": "Python 3",
   "language": "python",
   "name": "python3"
  },
  "language_info": {
   "codemirror_mode": {
    "name": "ipython",
    "version": 3
   },
   "file_extension": ".py",
   "mimetype": "text/x-python",
   "name": "python",
   "nbconvert_exporter": "python",
   "pygments_lexer": "ipython3",
   "version": "3.7.3"
  }
 },
 "nbformat": 4,
 "nbformat_minor": 2
}
